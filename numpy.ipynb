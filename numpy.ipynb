{
  "cells": [
    {
      "cell_type": "markdown",
      "source": [
        "<a href=\"https://githubtocolab.com/borislevant/python4ml/blob/main/numpy.ipynb\" target=\"_parent\"><img src=\"https://colab.research.google.com/assets/colab-badge.svg\" alt=\"Open in Colab\"/></a>"
      ],
      "metadata": {
        "id": "ezpLq3LQeK3j"
      }
    },
    {
      "cell_type": "markdown",
      "metadata": {
        "id": "sXFSXjxSd6nJ"
      },
      "source": [
        "# Numerical Python: NumPy\n",
        "\n",
        "[NumPy](http://www.numpy.org/) NumPy is the fundamental package for scientific computing in Python. It is a Python library that provides a multidimensional array object, various derived objects (such as masked arrays and matrices), and an assortment of routines for fast operations on arrays, including mathematical, logical, shape manipulation, sorting, selecting, I/O, discrete Fourier transforms, basic linear algebra, basic statistical operations, random simulation and much more.\n",
        "\n",
        "[![Numpy logo](https://matplotlib.org/stable/_images/sphx_glr_voxels_numpy_logo_001.png)](https://matplotlib.org/stable/gallery/mplot3d/voxels_numpy_logo.html)"
      ]
    },
    {
      "cell_type": "markdown",
      "metadata": {
        "id": "FYw7XlJGd6nK"
      },
      "source": [
        "# Importing NumPy\n",
        "\n",
        "The convention is `import numpy as np`. This loads the entire NumPy package once, and uses an alias `np` so that we don't pollute our code with too much `numpy`.\n",
        "\n",
        "Some people like to do `from numpy import *`. This is frowned-upon as it pollutes the namespace: it overrides the default `sum` and hides the fact that we are using specific `numpy` functions.\n",
        "\n",
        "If you only need specific NumPy objects you can load them using `from numpy import array, ones` etc."
      ]
    },
    {
      "cell_type": "code",
      "execution_count": null,
      "metadata": {
        "id": "XVwxQDKsd6nM"
      },
      "outputs": [],
      "source": [
        "import numpy as np\n",
        "print(\"Numpy version:\", np.__version__)"
      ]
    },
    {
      "cell_type": "markdown",
      "metadata": {
        "id": "XxaUzfydd6nO"
      },
      "source": [
        "#### __NumPy’s main object is the _homogeneous_ multidimensional array.__\n",
        "\n",
        "Dimensions are called axes. \n",
        "\n",
        "* A vector is an array of one dimension\n",
        "* A 2D matrix is an array with two dimensions."
      ]
    },
    {
      "cell_type": "markdown",
      "metadata": {
        "toc-hr-collapsed": false,
        "id": "DXe3oK8dd6nb"
      },
      "source": [
        "# Analyzing Patient Data\n",
        "\n",
        "We are studying inflammation in patients who have been given a new treatment for arthritis, and need to analyze the first dozen data sets. \n",
        "\n",
        "The data sets are stored in comma-separated values (CSV) format: each row holds information for a single patient, and the columns represent successive days. \n",
        "\n",
        "The first few rows of our data file look like this:\n",
        "\n",
        "> 0,0,1,3,1,2,4,7,8,3,3,3,10,5,7,4,7,7,12,18,6,13,11,11,7,7,4,6,8,8,4,4,5,7,3,4,2,3,0,0\n",
        "0,1,2,1,2,1,3,2,2,6,10,11,5,9,4,4,7,16,8,6,18,4,12,5,12,7,11,5,11,3,3,5,4,4,5,5,1,1,0,1\n",
        "0,1,1,3,3,2,6,2,5,9,5,7,4,5,4,15,5,11,9,10,19,14,12,17,7,12,11,7,4,2,10,5,4,2,2,3,2,2,1,1\n",
        "0,0,2,0,4,2,2,1,6,7,10,7,9,13,8,8,15,10,10,7,17,4,4,7,6,15,6,4,9,11,3,5,6,3,3,4,2,3,2,1\n",
        "0,1,1,3,3,1,3,5,2,4,4,7,6,5,3,10,8,10,6,17,9,14,9,7,13,9,12,6,7,7,9,6,3,2,2,4,2,0,1,1\n"
      ]
    },
    {
      "cell_type": "markdown",
      "metadata": {
        "id": "PT8VgFgrd6nb"
      },
      "source": [
        "## Loading data from file"
      ]
    },
    {
      "cell_type": "markdown",
      "metadata": {
        "id": "quCDu4Bod6nc"
      },
      "source": [
        "We read the file into a NumPy array - the new data structure which is the center of all scientific Python."
      ]
    },
    {
      "cell_type": "code",
      "execution_count": null,
      "metadata": {
        "id": "b5K0fYg4d6nc"
      },
      "outputs": [],
      "source": [
        "fname = \"../data/inflammation-01.csv\"\n",
        "data = np.loadtxt(fname, delimiter=',')\n",
        "print(data)"
      ]
    },
    {
      "cell_type": "markdown",
      "metadata": {
        "id": "KOm_w9y2d6nc"
      },
      "source": [
        "The expression `np.loadtxt(...)` is a function call that asks Python to run the function `loadtxt` that belongs to the `numpy` library. \n",
        "\n",
        "`numpy.loadtxt` has two arguments: the name of the file we want to read, and the delimiter that separates values on a line. These arguments need to be strings.\n",
        "\n",
        "We saved the output of `loadtxt` to the variable `data`.\n",
        "When we `print(data)`, only a few rows and columns are shown (with `...` to omit elements when displaying big arrays).\n",
        "To save space, Python displays numbers as `1.` instead of `1.0` when there's nothing interesting after the decimal point.\n",
        "\n",
        "### Other ways to load data from files\n",
        "\n",
        "- [np.load](https://docs.scipy.org/doc/numpy/reference/generated/numpy.load.html): Load arrays or [pickled](https://docs.python.org/3/library/pickle.html?highlight=pickle#module-pickle) objects from pickled files, saved using `np.save` with the extension `.npy` or `.npz` (the latter for gzip compressed files).\n",
        "- [np.genfromtxt](https://docs.scipy.org/doc/numpy/reference/generated/numpy.genfromtxt.html): provides more sophisticated handling of, e.g. lines with missing values.\n",
        "\n",
        "There are some more special I/O functions in [scipy.io](https://docs.scipy.org/doc/scipy/reference/io.html), for example for reading MATLAB data files and audio files, and [imageio](http://imageio.github.io) for reading image files."
      ]
    },
    {
      "cell_type": "markdown",
      "metadata": {
        "id": "PojK6k1ud6nd"
      },
      "source": [
        "## Manipulating Data\n",
        "\n",
        "Now that our data is in memory, we can start doing things with it. First, let's ask what type of thing data refers to:"
      ]
    },
    {
      "cell_type": "code",
      "execution_count": null,
      "metadata": {
        "id": "K3mzWUavd6ne"
      },
      "outputs": [],
      "source": [
        "print(type(data))"
      ]
    },
    {
      "cell_type": "markdown",
      "metadata": {
        "id": "ug7EMq_8d6ne"
      },
      "source": [
        "The output tells us that data currently refers to an N-dimensional array created by the NumPy library. We can see what its shape is like this:"
      ]
    },
    {
      "cell_type": "code",
      "execution_count": null,
      "metadata": {
        "id": "F548RvATd6nf"
      },
      "outputs": [],
      "source": [
        "print('number of dimensions:', data.ndim)\n",
        "print('shape of array:', data.shape)\n",
        "print('size of array:', data.size)\n",
        "\n",
        "n_patients, n_days = data.shape"
      ]
    },
    {
      "cell_type": "markdown",
      "metadata": {
        "id": "07Hwsruzd6nf"
      },
      "source": [
        "This tells us that `data` has 60 rows and 40 columns, which are 60 patients and 40 days. \n",
        "\n",
        "`data.shape` is a member of `data`, i.e. a value that is stored as part of an object, an attribute.\n",
        "\n",
        "If we want to get a single value from the matrix, we must provide an index in square brackets, just as we do with a `list`, but with as many indices as the number of dimensions - `ndim` (two in this case):"
      ]
    },
    {
      "cell_type": "code",
      "execution_count": null,
      "metadata": {
        "id": "z75AdnDnd6ng"
      },
      "outputs": [],
      "source": [
        "print(\"first value in data\", data[0,0])\n",
        "print(\"middle value in data:\", data[30, 20])\n",
        "print(\"last value in data:\", data[-1, -1])"
      ]
    },
    {
      "cell_type": "markdown",
      "metadata": {
        "id": "8BliqLj9d6nh"
      },
      "source": [
        "Just like with `list` and `str`, if we have an M×N array in Python, its indices go from 0 to M-1 on the first axis and 0 to N-1 on the second. \n",
        "\n",
        "It takes a bit of getting used to, but one way to remember the rule is that the index is how many steps we have to take from the start to get the item we want.\n",
        "\n",
        "> **In the Corner.**\n",
        "> What may also surprise you is that when Python displays an array, it shows the element with index [0, 0] in the upper left corner rather than the lower left. This is consistent with the way mathematicians draw matrices, but different from the Cartesian coordinates. The indices are (row, column) instead of (column, row) for the same reason, which can be confusing when plotting data.\n",
        "\n",
        "\n",
        "### __Slicing__\n",
        "An index like `[30, 20]` selects a single element of an array, but we can select whole sections as well. \n",
        "\n",
        "For example, we can select the first ten days (columns) of values for the first four (rows) patients like this:"
      ]
    },
    {
      "cell_type": "code",
      "execution_count": null,
      "metadata": {
        "id": "hlopSIhXd6nh"
      },
      "outputs": [],
      "source": [
        "print(data[0:4, 0:10])"
      ]
    },
    {
      "cell_type": "markdown",
      "metadata": {
        "id": "tWEY_fRRd6nh"
      },
      "source": [
        "The slice `0:4` means, \"Start at index 0 and go up to, but not including, index 4.\" Again, the up-to-but-not-including takes a bit of getting used to, but the rule is that the difference between the upper and lower bounds is the number of values in the slice.\n",
        "\n",
        "We don't have to start slices at 0:"
      ]
    },
    {
      "cell_type": "code",
      "execution_count": null,
      "metadata": {
        "id": "aADM1HQbd6ni"
      },
      "outputs": [],
      "source": [
        "print(data[5:10, 0:10])"
      ]
    },
    {
      "cell_type": "markdown",
      "metadata": {
        "id": "ZN33v-VAd6ni"
      },
      "source": [
        "We also don't have to include the upper and lower bound on the slice. If we don't include the lower bound, Python uses 0 by default; if we don't include the upper, the slice runs to the end of the axis, and if we don't include either (i.e. if we just use ':' on its own), the slice includes everything:"
      ]
    },
    {
      "cell_type": "code",
      "execution_count": null,
      "metadata": {
        "id": "ubZqULQjd6ni"
      },
      "outputs": [],
      "source": [
        "small = data[:3, 36:].copy()\n",
        "print('small is:')\n",
        "print(small)"
      ]
    },
    {
      "cell_type": "code",
      "execution_count": null,
      "metadata": {
        "id": "DntpDd5Id6nj"
      },
      "outputs": [],
      "source": [
        "# the 5th column:\n",
        "print(data[:, 4])\n",
        "print(data[:, 4].shape)"
      ]
    },
    {
      "cell_type": "code",
      "execution_count": null,
      "metadata": {
        "id": "IwUqvDiSd6nj"
      },
      "outputs": [],
      "source": [
        "# the 7th row:\n",
        "print(data[6, :])\n",
        "print(data[6, :].shape)"
      ]
    },
    {
      "cell_type": "markdown",
      "metadata": {
        "id": "Dt2zc9AKd6nj"
      },
      "source": [
        "## Exercise 1\n",
        "\n",
        "1. Print the last value of the array, that is, the value at the last row and last column.\n",
        "1. Print the entire last row.\n",
        "1. Print the entire last column.\n",
        "\n",
        "**Tips**\n",
        "- Get autocompletion by pressing _Tab_\n",
        "- Get documentation by pressing _Shift+Tab_"
      ]
    },
    {
      "cell_type": "markdown",
      "metadata": {
        "id": "PRmoUBn9d6nj"
      },
      "source": [
        "## __Creating arrays__\n",
        "\n",
        "There are [5 general mechanisms for creating arrays](https://docs.scipy.org/doc/numpy-dev/user/basics.creation.html):\n",
        "\n",
        "1. Reading arrays from disk, either from standard or custom formats\n",
        "1. Conversion from other Python structures (e.g., lists, tuples)\n",
        "1. Intrinsic numpy array creation objects (e.g., `arange`, `ones`, `zeros`, etc.)\n",
        "1. Creating arrays from raw bytes through the use of strings or buffers\n",
        "1. Use of special library functions (e.g., `numpy.random`)\n",
        "\n",
        "\n",
        "Let's start by pecifying a list or list of lists to the `np.array` function:"
      ]
    },
    {
      "cell_type": "code",
      "execution_count": null,
      "metadata": {
        "id": "af3TtEXwd6nk"
      },
      "outputs": [],
      "source": [
        "a = np.array([0, 1, 2, 3])\n",
        "print(a)\n",
        "print(type(a), a.dtype)"
      ]
    },
    {
      "cell_type": "markdown",
      "metadata": {
        "id": "rH4n790Ud6nk"
      },
      "source": [
        "The `dtype` attribute gives the data-type. \n",
        "\n",
        "We can force a specific data-type:"
      ]
    },
    {
      "cell_type": "code",
      "execution_count": null,
      "metadata": {
        "id": "47BVmq1Pd6nk"
      },
      "outputs": [],
      "source": [
        "a = np.array([0, 1, 2, 3], dtype=np.uint64)\n",
        "print(a)\n",
        "print(type(a), a.dtype)"
      ]
    },
    {
      "cell_type": "code",
      "execution_count": null,
      "metadata": {
        "id": "8YZuXUXOd6nk"
      },
      "outputs": [],
      "source": [
        "a = np.float16([0, 1, 2, 3])\n",
        "print(a)\n",
        "print(type(a), a.dtype)"
      ]
    },
    {
      "cell_type": "markdown",
      "metadata": {
        "id": "Enif395wd6nk"
      },
      "source": [
        "__Remember that the arrays must be homogeneous:__"
      ]
    },
    {
      "cell_type": "code",
      "execution_count": null,
      "metadata": {
        "id": "laNJGMpfd6nk"
      },
      "outputs": [],
      "source": [
        "np.array([1,'a'])"
      ]
    },
    {
      "cell_type": "markdown",
      "metadata": {
        "id": "HCgE8NdQd6nl"
      },
      "source": [
        "NumPy has many [data-types](https://docs.scipy.org/doc/numpy-dev/user/basics.types.html), we'll focus on the default `int` and `float` today.\n",
        "\n",
        "We can create a 2D array from nested lists - make sure that all nested lists have the same length."
      ]
    },
    {
      "cell_type": "code",
      "execution_count": null,
      "metadata": {
        "id": "FxcxAGgMd6nl"
      },
      "outputs": [],
      "source": [
        "b = np.array(\n",
        "    [\n",
        "        [0, 1, 2], \n",
        "        [3, 4, 5]\n",
        "    ]\n",
        ")\n",
        "\n",
        "# same as writing: b = np.array([[0, 1, 2], [3, 4, 5]])\n",
        "\n",
        "print(b)\n",
        "print(b.shape)"
      ]
    },
    {
      "cell_type": "code",
      "execution_count": null,
      "metadata": {
        "id": "P8uYuyIcd6nl"
      },
      "outputs": [],
      "source": [
        "c = np.array(\n",
        "    [\n",
        "        [\n",
        "            [1], \n",
        "            [2]\n",
        "        ], \n",
        "        [\n",
        "            [3], \n",
        "            [4]\n",
        "        ]\n",
        "    ]\n",
        ")\n",
        "print(c)\n",
        "print(c.shape)"
      ]
    },
    {
      "cell_type": "markdown",
      "metadata": {
        "id": "hUoDNMFzd6nl"
      },
      "source": [
        "Arrays are N-dimensional, so you can specify how many dimensions that you would like:"
      ]
    },
    {
      "cell_type": "code",
      "execution_count": null,
      "metadata": {
        "id": "SRxmGD63d6nm"
      },
      "outputs": [],
      "source": [
        "d = np.array(\n",
        "    [\n",
        "        [\n",
        "            [1, 2],\n",
        "            [3, 4],\n",
        "        ],\n",
        "        [\n",
        "            [5, 6],\n",
        "            [7, 8],\n",
        "        ],        \n",
        "    ]\n",
        ")\n",
        "print(d)\n",
        "print(d.shape)"
      ]
    },
    {
      "cell_type": "markdown",
      "metadata": {
        "id": "q19bosqhd6nm"
      },
      "source": [
        "Check the number of dimensions and the shape:"
      ]
    },
    {
      "cell_type": "code",
      "execution_count": null,
      "metadata": {
        "id": "71D_f52Jd6nm"
      },
      "outputs": [],
      "source": [
        "print(d.ndim)\n",
        "print(d.shape)"
      ]
    },
    {
      "cell_type": "markdown",
      "metadata": {
        "id": "cyzUHC41d6nm"
      },
      "source": [
        "__Sequence of numbers:__\n",
        "\n",
        "Use `np.arange`, whish is similar to `range`, but also accepts `float`s:"
      ]
    },
    {
      "cell_type": "code",
      "execution_count": null,
      "metadata": {
        "id": "2q3tDyAmd6nm"
      },
      "outputs": [],
      "source": [
        "a = np.arange(10)  # similar to range(10)\n",
        "print(a)"
      ]
    },
    {
      "cell_type": "code",
      "execution_count": null,
      "metadata": {
        "id": "gvcu93Qud6nm"
      },
      "outputs": [],
      "source": [
        "b = np.arange(-1.5, 9.5, 0.2) # start, end (exclusive), step\n",
        "print(b)"
      ]
    },
    {
      "cell_type": "markdown",
      "metadata": {
        "id": "9dUy8KcJd6nn"
      },
      "source": [
        "`np.linspace` is similar, but it accepts the required number of points rather than the required step."
      ]
    },
    {
      "cell_type": "code",
      "execution_count": null,
      "metadata": {
        "id": "O8dQl5ZTd6nn"
      },
      "outputs": [],
      "source": [
        "c = np.linspace(0, 1, 6)   # start (inclusive), end (inclusive), num-points\n",
        "print(c)"
      ]
    },
    {
      "cell_type": "markdown",
      "metadata": {
        "id": "xQ_9Zl7Vd6nn"
      },
      "source": [
        "__Initializing an array with zeros / ones:__"
      ]
    },
    {
      "cell_type": "code",
      "execution_count": null,
      "metadata": {
        "id": "aSrw7FGRd6nn"
      },
      "outputs": [],
      "source": [
        "print(np.zeros(7))\n",
        "print()\n",
        "print(np.ones((2,3)))\n",
        "print()\n",
        "print(np.zeros((1,7)))"
      ]
    },
    {
      "cell_type": "markdown",
      "metadata": {
        "id": "DQfAqukKd6nn"
      },
      "source": [
        "## __Operations__\n",
        "\n",
        "We can also perform common arithmetic operations on arrays: add, subtract, multiply, divide, etc.\n",
        "\n",
        "When you perform these operations on arrays, the operation is done on each individual element of the array, i.e. elementwise.\n",
        "\n",
        "A new array is created and filled with the result."
      ]
    },
    {
      "cell_type": "markdown",
      "metadata": {
        "id": "7knSk_JFd6nn"
      },
      "source": [
        "bac to `data` that we loaded above with `no.loadtxt`:"
      ]
    },
    {
      "cell_type": "code",
      "execution_count": null,
      "metadata": {
        "id": "Z4VVRZPWd6no"
      },
      "outputs": [],
      "source": [
        "doubledata = data * 2"
      ]
    },
    {
      "cell_type": "markdown",
      "metadata": {
        "id": "TIPleLFRd6no"
      },
      "source": [
        "will create a new array `doubledata` whose elements have the value of two times the value of the corresponding elements in `data`."
      ]
    },
    {
      "cell_type": "code",
      "execution_count": null,
      "metadata": {
        "id": "laEqi4PDd6no"
      },
      "outputs": [],
      "source": [
        "print('original:')\n",
        "print(data[:3, 36:])\n",
        "print('doubledata:')\n",
        "print(doubledata[:3, 36:])"
      ]
    },
    {
      "cell_type": "markdown",
      "metadata": {
        "id": "3Uhop1Xid6no"
      },
      "source": [
        "Some more examples:"
      ]
    },
    {
      "cell_type": "code",
      "execution_count": null,
      "metadata": {
        "id": "d3fMTbyhd6no"
      },
      "outputs": [],
      "source": [
        "x = np.array([1,2,3])\n",
        "print(x+1)\n",
        "print(x*2)\n",
        "print(x-5)\n",
        "print(x/3)\n",
        "print(x%2)"
      ]
    },
    {
      "cell_type": "code",
      "execution_count": null,
      "metadata": {
        "id": "vahsCdzDd6no"
      },
      "outputs": [],
      "source": [
        "x = np.array([1,2,3])\n",
        "y = np.array([4,5,6])\n",
        "print(x+y)\n",
        "print(x*y)"
      ]
    },
    {
      "cell_type": "markdown",
      "metadata": {
        "id": "kjggWNCrd6np"
      },
      "source": [
        "Note that the shapes of the arrays must be suitable:"
      ]
    },
    {
      "cell_type": "code",
      "execution_count": null,
      "metadata": {
        "id": "fHGf0s5Cd6np"
      },
      "outputs": [],
      "source": [
        "x = np.array([1,2,3])\n",
        "z = np.array([7,8,9,10])\n",
        "print(x+z)"
      ]
    },
    {
      "cell_type": "markdown",
      "metadata": {
        "id": "K9nC0_Lxd6np"
      },
      "source": [
        "In order to apply matrix multiplication (as in linear algebra, and not elementwise), we can use the `dot` method:"
      ]
    },
    {
      "cell_type": "code",
      "execution_count": null,
      "metadata": {
        "id": "8poa1Z-yd6np"
      },
      "outputs": [],
      "source": [
        "# note the reshape command that creates a new array in the given dimensions:\n",
        "a = np.arange(1,10).reshape((3,3))\n",
        "b = np.arange(1,4).reshape(3,1)\n",
        "c = np.arange(4,7).reshape(1,3)\n",
        "for elem in (a,b,c):\n",
        "    print(elem, end='\\n\\n')"
      ]
    },
    {
      "cell_type": "code",
      "execution_count": null,
      "metadata": {
        "id": "WpYl5uyed6np"
      },
      "outputs": [],
      "source": [
        "print(a.dot(b), end='\\n\\n')\n",
        "print(c.dot(b))"
      ]
    },
    {
      "cell_type": "markdown",
      "metadata": {
        "id": "4yYYqws1d6nq"
      },
      "source": [
        "### __The speed of numpy__\n",
        "\n",
        "Thess operands on arrays are much faster than doing it with e.g. lists \n",
        "\n",
        "(`%timeit` is a magic command for measuring running time of single lines; use `%%timeit` to measure time of a whole cell).\n",
        "\n",
        "Say we want to produce an array of the squares of numbers from 0 to 99.\n",
        "There are a bunch of ways to do it using list comprehensions, `np.arange`, and using different approached for squaring the numbers. \n",
        "\n",
        "Let's compare the different approaches in terms of running time:"
      ]
    },
    {
      "cell_type": "code",
      "execution_count": null,
      "metadata": {
        "id": "W6asqmCsd6nq"
      },
      "outputs": [],
      "source": [
        "n = 100000\n",
        "\n",
        "%timeit [x**2 for x in range(n)]\n",
        "\n",
        "%timeit np.array([x**2 for x in range(n)])\n",
        "\n",
        "%timeit np.array([x**2 for x in np.arange(n)])\n",
        "\n",
        "%timeit np.power(range(n), 2)\n",
        "\n",
        "%timeit np.power(np.arange(n), 2)\n",
        "\n",
        "%timeit np.arange(n)**2"
      ]
    },
    {
      "cell_type": "markdown",
      "metadata": {
        "id": "pae6m5VKd6nq"
      },
      "source": [
        "Just another comparison:"
      ]
    },
    {
      "cell_type": "code",
      "execution_count": null,
      "metadata": {
        "id": "OT-yqbYyd6nq"
      },
      "outputs": [],
      "source": [
        "def add_lists(a,b):\n",
        "    n = len(a)\n",
        "    res = []\n",
        "    for i in range(n):\n",
        "        res.append(a[i] + b[i])\n",
        "    return res\n",
        "    \n",
        "n = 10**5\n",
        "a = range(n)\n",
        "b = range(0, 2*n, 2)\n",
        "%timeit add_lists(a,b) # same operation as list comprehension: [a[i] + b[i] for i in range(n)]\n",
        "\n",
        "a = np.arange(n)\n",
        "b = np.arange(0, 2*n, 2)\n",
        "%timeit a + b"
      ]
    },
    {
      "cell_type": "markdown",
      "metadata": {
        "id": "58qpIne8d6nq"
      },
      "source": [
        "## Exercise 2\n",
        "\n",
        "Calculate the square root of the data using `numpy`. \n",
        "Print the result for the first 5 columns of the first 3 rows."
      ]
    },
    {
      "cell_type": "code",
      "execution_count": null,
      "metadata": {
        "id": "TSenQogfd6nq"
      },
      "outputs": [],
      "source": [
        "\n",
        "\n"
      ]
    },
    {
      "cell_type": "markdown",
      "metadata": {
        "id": "dNfaID5-d6nr"
      },
      "source": [
        "## __Descriptive statistics__\n",
        "\n",
        "Often, we want to do more than add, subtract, multiply, and divide values of data. \n",
        "We can also do descriptive statistics on arrays.\n",
        "If we want to find the average inflammation for all patients on all days, for example, we can just calculate the mean value of the array."
      ]
    },
    {
      "cell_type": "code",
      "execution_count": null,
      "metadata": {
        "id": "JYtgewh0d6nr"
      },
      "outputs": [],
      "source": [
        "data.mean()"
      ]
    },
    {
      "cell_type": "markdown",
      "metadata": {
        "id": "IxyN-0x6d6nr"
      },
      "source": [
        "`mean` is a method of the array, i.e. a function that belongs to it in the same way that the member shape does. If variables are nouns, methods are verbs: they describe operations that can be perfomed on the object.\n",
        "This is why `data.shape` doesn't need to be called (it's a member, not a method) but `data.mean()` does (it's a method).\n",
        "\n",
        "It is also why we need empty parentheses for `data.mean()`: even when we're not passing in any arguments, parentheses are how we tell Python to call a function (what would happen if you just use `data.mean`?).\n",
        "\n",
        "NumPy arrays have lots of useful methods:"
      ]
    },
    {
      "cell_type": "code",
      "execution_count": null,
      "metadata": {
        "id": "KEuXnEuNd6nr"
      },
      "outputs": [],
      "source": [
        "print('maximum inflammation:', data.max())\n",
        "print('minimum inflammation:', data.min())\n",
        "print('standard deviation:', data.std())"
      ]
    },
    {
      "cell_type": "markdown",
      "metadata": {
        "id": "JojtBeiPd6nr"
      },
      "source": [
        "When analyzing data, though, we often want to look at marginal statistics, such as the maximum value per patient or the average value per day.\n",
        "One way to do this is to select the data we want to create a new temporary array, then ask it to do the calculation:"
      ]
    },
    {
      "cell_type": "code",
      "execution_count": null,
      "metadata": {
        "id": "j7iGuEg7d6ns"
      },
      "outputs": [],
      "source": [
        "patient_0 = data[0, :] # 0 on the first axis, everything on the second\n",
        "print('maximum inflammation for patient 0:', patient_0.max())"
      ]
    },
    {
      "cell_type": "markdown",
      "metadata": {
        "id": "Orhv4Em9d6ns"
      },
      "source": [
        "What if we need the maximum inflammation for all patients, or the average for each day? As the diagram below shows, we want to perform the operation across an axis:\n",
        "![axis example](https://github.com/swcarpentry/python-novice-inflammation/raw/gh-pages/fig/python-operations-across-axes.png)\n",
        "To support this, most array methods allow us to specify the axis we want to work on.\n",
        "If we ask for the average across axis 0, we get:"
      ]
    },
    {
      "cell_type": "code",
      "execution_count": null,
      "metadata": {
        "id": "_FLh6C59d6ns"
      },
      "outputs": [],
      "source": [
        "print(data.mean(axis=0))"
      ]
    },
    {
      "cell_type": "markdown",
      "metadata": {
        "id": "T2ejn-QLd6ns"
      },
      "source": [
        "As a quick check, we can check the shape of the result:"
      ]
    },
    {
      "cell_type": "code",
      "execution_count": null,
      "metadata": {
        "id": "eAu_ktkAd6ns"
      },
      "outputs": [],
      "source": [
        "print(data.mean(axis=0).shape)"
      ]
    },
    {
      "cell_type": "markdown",
      "metadata": {
        "id": "-L-AmFIQd6ns"
      },
      "source": [
        "The expression `(40,)` tells us we have an 1D array of length 40, so this is the average inflammation per day for all patients. If we average across axis 1, we get:"
      ]
    },
    {
      "cell_type": "code",
      "execution_count": null,
      "metadata": {
        "id": "fs8SbSled6ns"
      },
      "outputs": [],
      "source": [
        "print(data.mean(axis=1))"
      ]
    },
    {
      "cell_type": "markdown",
      "metadata": {
        "id": "ExnxC8lYd6nt"
      },
      "source": [
        "which is the average inflammation per patient across all days."
      ]
    },
    {
      "cell_type": "markdown",
      "metadata": {
        "id": "JkTOXllHd6nt"
      },
      "source": [
        "## Exercise 3\n",
        "\n",
        "On which day did each patient had the most inflammation?\n",
        "Use `data.argmax` to find out."
      ]
    },
    {
      "cell_type": "code",
      "execution_count": null,
      "metadata": {
        "id": "RhEd5CEgd6nt"
      },
      "outputs": [],
      "source": []
    },
    {
      "cell_type": "markdown",
      "metadata": {
        "toc-hr-collapsed": false,
        "id": "7r4CiPkqd6nt"
      },
      "source": [
        "# NumPy reference\n",
        "\n",
        "We now go through some extra NumPy features worth mentioning."
      ]
    },
    {
      "cell_type": "markdown",
      "metadata": {
        "id": "7ciJOuked6nt"
      },
      "source": [
        "### Exercise: creating arrays\n",
        "\n",
        "Create an array with the inverse ($1/x$) of the even numbers lower than or equal to 100."
      ]
    },
    {
      "cell_type": "code",
      "execution_count": null,
      "metadata": {
        "id": "Qe6ZPR8Bd6nt"
      },
      "outputs": [],
      "source": []
    },
    {
      "cell_type": "markdown",
      "metadata": {
        "id": "TqMtu-p6d6nt"
      },
      "source": [
        "## Creating arrays - continued\n",
        "You can can create an empty array of a certain shape (which is given as a `tuple`) or with the same shape as another array."
      ]
    },
    {
      "cell_type": "code",
      "execution_count": null,
      "metadata": {
        "id": "-JG-J_nqd6nu"
      },
      "outputs": [],
      "source": [
        "d = np.empty((2, 4))\n",
        "print(d)"
      ]
    },
    {
      "cell_type": "code",
      "execution_count": null,
      "metadata": {
        "id": "_lrznQDed6nu"
      },
      "outputs": [],
      "source": [
        "f = np.empty_like(d)\n",
        "print(f)"
      ]
    },
    {
      "cell_type": "markdown",
      "metadata": {
        "id": "TKzMkKlRd6nu"
      },
      "source": [
        "You can create an array full of 1s or 0s, or any single number:"
      ]
    },
    {
      "cell_type": "code",
      "execution_count": null,
      "metadata": {
        "id": "tFX_wK-Id6nu"
      },
      "outputs": [],
      "source": [
        "a = np.ones((3, 3))\n",
        "print(a)"
      ]
    },
    {
      "cell_type": "code",
      "execution_count": null,
      "metadata": {
        "id": "q_zY5teKd6nu"
      },
      "outputs": [],
      "source": [
        "a = np.ones((3, 3)) * 5.134 \n",
        "print(a)"
      ]
    },
    {
      "cell_type": "code",
      "execution_count": null,
      "metadata": {
        "id": "KtmltJCCd6nu"
      },
      "outputs": [],
      "source": [
        "b = np.zeros((2, 2))\n",
        "print(b)"
      ]
    },
    {
      "cell_type": "markdown",
      "metadata": {
        "id": "NhBT8vOdd6nu"
      },
      "source": [
        "Create the identity matrix:"
      ]
    },
    {
      "cell_type": "code",
      "execution_count": null,
      "metadata": {
        "id": "pIQX5rHWd6nv"
      },
      "outputs": [],
      "source": [
        "c = np.eye(3)\n",
        "print(c)"
      ]
    },
    {
      "cell_type": "markdown",
      "metadata": {
        "id": "kxyMuiFGd6nv"
      },
      "source": [
        "Create matrices by specifying the digonals:"
      ]
    },
    {
      "cell_type": "code",
      "execution_count": null,
      "metadata": {
        "id": "p_yc49Ecd6nv"
      },
      "outputs": [],
      "source": [
        "d = np.diag([1, 2, 3, 4])\n",
        "print(d)"
      ]
    },
    {
      "cell_type": "code",
      "execution_count": null,
      "metadata": {
        "scrolled": true,
        "id": "66-hxRJud6nv"
      },
      "outputs": [],
      "source": [
        "d = np.diag([1, 2, 3], 1) + np.diag([4, 5, 6], -1)\n",
        "print(d)"
      ]
    },
    {
      "cell_type": "markdown",
      "metadata": {
        "id": "eRBbJyxAd6nv"
      },
      "source": [
        "Create matrices by reshaping another matrix or array:"
      ]
    },
    {
      "cell_type": "code",
      "execution_count": null,
      "metadata": {
        "id": "lgrP6MAyd6nv"
      },
      "outputs": [],
      "source": [
        "f = d.reshape((2, 8))\n",
        "print(f)"
      ]
    },
    {
      "cell_type": "markdown",
      "metadata": {
        "id": "MhexBCyrd6nw"
      },
      "source": [
        "### Exercise: new function\n",
        "\n",
        "Skim through the documentation for `np.ravel`, and use this function to construct the array:\n",
        "```py\n",
        "[1 0 0 0 1 0 0 0 1]\n",
        "```"
      ]
    },
    {
      "cell_type": "code",
      "execution_count": null,
      "metadata": {
        "id": "yLf-3fNXd6ny"
      },
      "outputs": [],
      "source": []
    },
    {
      "cell_type": "markdown",
      "metadata": {
        "id": "BdrRVDzpd6ny"
      },
      "source": [
        "## Random arrays\n",
        "\n",
        "We'll set the random seed for reproducability (i.e. to get the same result every time), but in real-life application you should think if you want to set the seed."
      ]
    },
    {
      "cell_type": "code",
      "execution_count": null,
      "metadata": {
        "id": "Od41ohLBd6nz"
      },
      "outputs": [],
      "source": [
        "np.random.seed(1231410) "
      ]
    },
    {
      "cell_type": "markdown",
      "metadata": {
        "id": "6r_ZSGZHd6nz"
      },
      "source": [
        "Start with drawing a single random number uniformly between 0 and 1:"
      ]
    },
    {
      "cell_type": "code",
      "execution_count": null,
      "metadata": {
        "id": "mbBdMn6Od6nz"
      },
      "outputs": [],
      "source": [
        "np.random.random()"
      ]
    },
    {
      "cell_type": "markdown",
      "metadata": {
        "id": "VXKVeWCrd6nz"
      },
      "source": [
        "An array of four random numbers between 0 and 1:"
      ]
    },
    {
      "cell_type": "code",
      "execution_count": null,
      "metadata": {
        "id": "Nkzcb2Ltd6nz"
      },
      "outputs": [],
      "source": [
        "a = np.random.random(size=4)\n",
        "print(a)"
      ]
    },
    {
      "cell_type": "markdown",
      "metadata": {
        "id": "7SxGSxjxd6nz"
      },
      "source": [
        "A 3x3 matrix or random numbers drawn from a normal distribution with mean 1 and standard deviation 0.5:"
      ]
    },
    {
      "cell_type": "code",
      "execution_count": null,
      "metadata": {
        "id": "n5nVzWpld6n0"
      },
      "outputs": [],
      "source": [
        "b = np.random.normal(1, 0.5, size=(3, 3))\n",
        "print(b)"
      ]
    },
    {
      "cell_type": "markdown",
      "metadata": {
        "id": "29AYbOVTd6n0"
      },
      "source": [
        "Now draw a 3x2x4 array from a Poisson distribution with mean 5:"
      ]
    },
    {
      "cell_type": "code",
      "execution_count": null,
      "metadata": {
        "id": "aouVnODyd6n0"
      },
      "outputs": [],
      "source": [
        "c = np.random.poisson(5, size=(3, 2, 4))\n",
        "print(c)"
      ]
    },
    {
      "cell_type": "markdown",
      "metadata": {
        "id": "MzRDN5E9d6n0"
      },
      "source": [
        "[shuffle](https://docs.scipy.org/doc/numpy-1.14.0/reference/generated/numpy.random.shuffle.html) an array:"
      ]
    },
    {
      "cell_type": "code",
      "execution_count": null,
      "metadata": {
        "id": "9FYO6vbld6n0"
      },
      "outputs": [],
      "source": [
        "vec = np.arange(10)\n",
        "np.random.shuffle(vec)\n",
        "print(vec)"
      ]
    },
    {
      "cell_type": "markdown",
      "metadata": {
        "id": "8rRs7hmYd6n0"
      },
      "source": [
        "[choose](https://docs.scipy.org/doc/numpy-1.15.0/reference/generated/numpy.random.choice.html) from an array with specific probabiltiy for each value:"
      ]
    },
    {
      "cell_type": "code",
      "execution_count": null,
      "metadata": {
        "id": "XIVuq9rpd6n0"
      },
      "outputs": [],
      "source": [
        "np.random.choice(a = [3,5,1,2], size = 15, replace=True, \\\n",
        "                 p = [0.1,0.2,0.3,0.4])"
      ]
    },
    {
      "cell_type": "markdown",
      "metadata": {
        "id": "QA6hragLd6n1"
      },
      "source": [
        "### Exercise: random arrays\n",
        "\n",
        "1) Create a 4x5x6 array with numbers drawn from a [geometric](https://docs.scipy.org/doc/numpy-1.14.0/reference/generated/numpy.random.geometric.html) distribution with `p=0.1` (the number of trails until success, where the probability of success is `p`)."
      ]
    },
    {
      "cell_type": "code",
      "execution_count": null,
      "metadata": {
        "id": "GUJpU9Aqd6n1"
      },
      "outputs": [],
      "source": []
    },
    {
      "cell_type": "markdown",
      "metadata": {
        "id": "Rlrod5god6n1"
      },
      "source": [
        "2) Normalize a 5x5 random matrix - that is, first subsctract by the minimum and then divide by the new maximum."
      ]
    },
    {
      "cell_type": "code",
      "execution_count": null,
      "metadata": {
        "scrolled": true,
        "id": "0jiUZIS1d6n1"
      },
      "outputs": [],
      "source": []
    },
    {
      "cell_type": "markdown",
      "metadata": {
        "id": "AiZJkYd-d6n1"
      },
      "source": [
        "## Broadcasting\n",
        "\n",
        "A very powerful mechanism of NumPy arrays is [broadcasting](https://docs.scipy.org/doc/numpy/user/basics.broadcasting.html).\n",
        "Broadcasting is used when an operation is used on two arrays of different shapes.\n",
        "The rules are:\n",
        "\n",
        "1. If arrays dimension differ, left-pad the smaller array's shape with 1s.\n",
        "1. If the shapes differ, change any dimension of size 1 to match the dimension of the other array.\n",
        "1. If shapes still differ, raise an error.\n",
        "\n",
        "Some exmaples:\n",
        "![broadcasting examples](http://www.astroml.org/_images/fig_broadcast_visual_1.png)"
      ]
    },
    {
      "cell_type": "code",
      "execution_count": null,
      "metadata": {
        "id": "o9nYOytSd6n1"
      },
      "outputs": [],
      "source": [
        "np.arange(3) + 5"
      ]
    },
    {
      "cell_type": "code",
      "execution_count": null,
      "metadata": {
        "id": "5gw4tv3Td6n1"
      },
      "outputs": [],
      "source": [
        "np.ones((3,3)) + np.arange(3)"
      ]
    },
    {
      "cell_type": "code",
      "execution_count": null,
      "metadata": {
        "id": "PkOOjSl_d6n2"
      },
      "outputs": [],
      "source": [
        "np.arange(3).reshape((3, 1)) + np.arange(3)"
      ]
    },
    {
      "cell_type": "code",
      "execution_count": null,
      "metadata": {
        "id": "Ccbo266Hd6n2"
      },
      "outputs": [],
      "source": [
        "np.ones((3,3)) + np.ones((3,2))"
      ]
    },
    {
      "cell_type": "code",
      "execution_count": null,
      "metadata": {
        "id": "pP5gyrEgd6n2"
      },
      "outputs": [],
      "source": [
        "np.ones((3,3,1)) + np.ones((3,1,3))"
      ]
    },
    {
      "cell_type": "markdown",
      "metadata": {
        "id": "D3VpQ4gWd6n2"
      },
      "source": [
        "### Exercise: Broadcasting\n",
        "\n",
        "Given a 1D array `X`, calculate the differences between each two elements of `X` using broadcasting and save it to array `D`."
      ]
    },
    {
      "cell_type": "code",
      "execution_count": null,
      "metadata": {
        "id": "Vx8jiBmNd6n2"
      },
      "outputs": [],
      "source": [
        "X = np.linspace(0, 1, 50)"
      ]
    },
    {
      "cell_type": "code",
      "execution_count": null,
      "metadata": {
        "id": "YuR9Iztnd6n2"
      },
      "outputs": [],
      "source": [
        "# your code here"
      ]
    },
    {
      "cell_type": "code",
      "execution_count": null,
      "metadata": {
        "id": "Iwl-7_sJd6n2"
      },
      "outputs": [],
      "source": [
        "assert D.shape == (50, 50)\n",
        "assert (D.diagonal() == 0).all()\n",
        "assert (D[5,5] == D[-5,-5])"
      ]
    },
    {
      "cell_type": "markdown",
      "metadata": {
        "id": "ObANr7YUd6n3"
      },
      "source": [
        "## Indexing and slicing\n",
        "\n",
        "[Indexing and slicing](https://docs.scipy.org/doc/numpy-dev/user/basics.indexing.html) on 1D arrays is similar to Python lists:"
      ]
    },
    {
      "cell_type": "code",
      "execution_count": null,
      "metadata": {
        "id": "tkxFUA38d6n3"
      },
      "outputs": [],
      "source": [
        "a = np.arange(1, 10)\n",
        "print(a)\n",
        "print(a[3])\n",
        "print(a[2:5])\n",
        "print(a[-2:-5:-1])"
      ]
    },
    {
      "cell_type": "markdown",
      "metadata": {
        "id": "_BHpQ2Wvd6n3"
      },
      "source": [
        "Similarly to lists, values in an array can be mutated.\n",
        "\n",
        "BUT, the size of the array cannot."
      ]
    },
    {
      "cell_type": "code",
      "execution_count": null,
      "metadata": {
        "id": "jsG54c_Gd6n3"
      },
      "outputs": [],
      "source": [
        "print(a)\n",
        "a[3] = 0\n",
        "print(a)"
      ]
    },
    {
      "cell_type": "markdown",
      "metadata": {
        "id": "wbr5H155d6n3"
      },
      "source": [
        "#### However, inconsistent with lists, array slicing returns a **view** rather then a copy, so **changing a slices changes the original array**:"
      ]
    },
    {
      "cell_type": "code",
      "execution_count": null,
      "metadata": {
        "id": "Jg91l8wSd6n3"
      },
      "outputs": [],
      "source": [
        "print(\"Lists:\")\n",
        "a = [1, 2, 3, 4, 5, 6]\n",
        "b = a[2:5]\n",
        "print('a is b?', a is b)\n",
        "print(a)\n",
        "b[0] = 0\n",
        "print(a)"
      ]
    },
    {
      "cell_type": "code",
      "execution_count": null,
      "metadata": {
        "id": "1BjQkZI8d6n4"
      },
      "outputs": [],
      "source": [
        "print(\"Arrays:\")\n",
        "a = np.arange(1, 7)\n",
        "b = a[2:5]\n",
        "print('a is b?', a is b)\n",
        "print(a)\n",
        "b[0] = 0\n",
        "print(a)"
      ]
    },
    {
      "cell_type": "markdown",
      "metadata": {
        "id": "hNFgyAlHd6n4"
      },
      "source": [
        "This is useful if you want to save space and the CPU required by copying arrays, but it can also be dangerous.\n",
        "If you explicitly want a **copy** rather than a **view**, call the `copy` method."
      ]
    },
    {
      "cell_type": "code",
      "execution_count": null,
      "metadata": {
        "id": "zqPYS9e9d6n4"
      },
      "outputs": [],
      "source": [
        "print(\"Arrays:\")\n",
        "a = np.arange(1, 7)\n",
        "b = a[2:5].copy()\n",
        "print('a is b?', a is b)\n",
        "print(a)\n",
        "b[0] = 0\n",
        "print(a)"
      ]
    },
    {
      "cell_type": "markdown",
      "metadata": {
        "id": "6LYf3IlId6n4"
      },
      "source": [
        "Arrays support multidimensional indexing and slicing:"
      ]
    },
    {
      "cell_type": "code",
      "execution_count": null,
      "metadata": {
        "id": "Pf6-M5Xxd6n4"
      },
      "outputs": [],
      "source": [
        "a = np.zeros((3,3))\n",
        "a[1,1] = 1\n",
        "print(a)"
      ]
    },
    {
      "cell_type": "code",
      "execution_count": null,
      "metadata": {
        "id": "HBVlpIQ0d6n5"
      },
      "outputs": [],
      "source": [
        "a = np.diag([1,2,3])\n",
        "print(a)\n",
        "print()\n",
        "print(a[:2,1:])"
      ]
    },
    {
      "cell_type": "code",
      "execution_count": null,
      "metadata": {
        "id": "y589gzOVd6n5"
      },
      "outputs": [],
      "source": [
        "y = np.arange(35).reshape(5,7)\n",
        "print(y)"
      ]
    },
    {
      "cell_type": "code",
      "execution_count": null,
      "metadata": {
        "id": "3Ym2zrm8d6n5"
      },
      "outputs": [],
      "source": [
        "print(y[0])\n",
        "print(y[0,:])"
      ]
    },
    {
      "cell_type": "code",
      "execution_count": null,
      "metadata": {
        "id": "ABQU-tVnd6n5"
      },
      "outputs": [],
      "source": [
        "print(y[:,1])"
      ]
    },
    {
      "cell_type": "markdown",
      "metadata": {
        "id": "llQYIDmld6n5"
      },
      "source": [
        "Notice the difference between slicing by mentioning a specific column, and a range of columns:"
      ]
    },
    {
      "cell_type": "code",
      "execution_count": null,
      "metadata": {
        "id": "TxYnzodgd6n5"
      },
      "outputs": [],
      "source": [
        "print(y[:,1])"
      ]
    },
    {
      "cell_type": "code",
      "execution_count": null,
      "metadata": {
        "id": "BhN7TVdGd6n5"
      },
      "outputs": [],
      "source": [
        "print(y[:,1:2])"
      ]
    },
    {
      "cell_type": "markdown",
      "metadata": {
        "id": "U3By8Ceyd6n6"
      },
      "source": [
        "Arrays can also be indexed using an array or list of indices, this is called **fancy indexing**:"
      ]
    },
    {
      "cell_type": "code",
      "execution_count": null,
      "metadata": {
        "id": "K2GZZoWld6n6"
      },
      "outputs": [],
      "source": [
        "a = np.arange(10, 30, 1)\n",
        "print(a)\n",
        "b = a[[1, 6, 9]]\n",
        "print(b)\n",
        "b = a[[1, 6, 9, 9, 9, 9, 9, 9]]\n",
        "print(b)"
      ]
    },
    {
      "cell_type": "code",
      "execution_count": null,
      "metadata": {
        "id": "24tD88h0d6n6"
      },
      "outputs": [],
      "source": [
        "y = np.arange(35).reshape(5,7)\n",
        "print(y, end='\\n\\n')\n",
        "print(y[[1,2,2,3]])"
      ]
    },
    {
      "cell_type": "code",
      "execution_count": null,
      "metadata": {
        "id": "-t3UiCUPd6n6"
      },
      "outputs": [],
      "source": [
        "print(y[ [0, 2], [1, 2] ])"
      ]
    },
    {
      "cell_type": "markdown",
      "metadata": {
        "id": "gGMaZ0nvd6n6"
      },
      "source": [
        "If one of the indexing lists is smaller than the other, NumPy will attempt broadcasting:"
      ]
    },
    {
      "cell_type": "code",
      "execution_count": null,
      "metadata": {
        "id": "cVKLLMqpd6n6"
      },
      "outputs": [],
      "source": [
        "print(y[ [0, 2], [1] ])"
      ]
    },
    {
      "cell_type": "markdown",
      "metadata": {
        "id": "9r87ct_2d6n7"
      },
      "source": [
        "But broadcasting isn't always possible:"
      ]
    },
    {
      "cell_type": "code",
      "execution_count": null,
      "metadata": {
        "id": "147sJTCld6n7"
      },
      "outputs": [],
      "source": [
        "y[[0,2,4], [0,1]]"
      ]
    },
    {
      "cell_type": "markdown",
      "metadata": {
        "id": "IPOgFNzDd6n8"
      },
      "source": [
        "The broadcasting mechanism permits index arrays to be combined with scalars for other indices. The effect is that the scalar value is used for all the corresponding values of the index arrays:"
      ]
    },
    {
      "cell_type": "code",
      "execution_count": null,
      "metadata": {
        "id": "kv_v4rMdd6n8"
      },
      "outputs": [],
      "source": [
        "print(y[[0,2,4], 1])"
      ]
    },
    {
      "cell_type": "markdown",
      "metadata": {
        "id": "qUGXznMvd6n9"
      },
      "source": [
        "## Boolean or mask arrays\n",
        "\n",
        "You can create boolean arrays by using the comparison operators:"
      ]
    },
    {
      "cell_type": "code",
      "execution_count": null,
      "metadata": {
        "id": "XU32YN8Td6n9"
      },
      "outputs": [],
      "source": [
        "a = np.random.random(size=(4, 4))\n",
        "print(a, end='\\n\\n')\n",
        "b = a < 0.5\n",
        "print(b, end='\\n\\n')\n",
        "print(b.sum())"
      ]
    },
    {
      "cell_type": "markdown",
      "metadata": {
        "id": "typF-JB8d6n9"
      },
      "source": [
        "These boolean arrays can be used for indexing:"
      ]
    },
    {
      "cell_type": "code",
      "execution_count": null,
      "metadata": {
        "id": "7HcYhPh9d6n9"
      },
      "outputs": [],
      "source": [
        "c = np.arange(16).reshape((4, 4))\n",
        "np.random.shuffle(c)\n",
        "print(c, end='\\n\\n')\n",
        "print(c > 5, end='\\n\\n')\n",
        "print(c[c > 5])"
      ]
    },
    {
      "cell_type": "markdown",
      "metadata": {
        "id": "c31CkIbHd6n-"
      },
      "source": [
        "### Exercise: mask arrays\n",
        "\n",
        "Given a 1D array, negate (i.e. turn to negative) all elements which are between 3 and 8 (including both), in place (i.e. without creating a new array).\n",
        "\n",
        "Note 1: you cannot use `and` because it acts on two booleans, whereas we want to do an elementwise \"and\". This is done using the operator `&`. \n",
        "\n",
        "Note 2: `&` is a Python bitwise operator which precedes arithmetic operators."
      ]
    },
    {
      "cell_type": "code",
      "execution_count": null,
      "metadata": {
        "scrolled": true,
        "id": "o7KlM9BQd6n-"
      },
      "outputs": [],
      "source": [
        "Z = np.arange(11)\n",
        "print(Z)"
      ]
    },
    {
      "cell_type": "code",
      "execution_count": null,
      "metadata": {
        "id": "DgH5YmaLd6n_"
      },
      "outputs": [],
      "source": [
        "# Your code here\n",
        "print(Z)"
      ]
    },
    {
      "cell_type": "markdown",
      "metadata": {
        "id": "hiBhsMbdd6n_"
      },
      "source": [
        "# \"Losing Your Loops\": Fast Numerical Computing with NumPy \n",
        "\n",
        "From the PyCon 2015 conferece, a [presentation](https://speakerdeck.com/jakevdp/losing-your-loops-fast-numerical-computing-with-numpy-pycon-2015) by [Jake VanderPlas](http://vanderplas.com).\n",
        "\n",
        "Also available on [YouTube](https://www.youtube.com/watch?v=EEUXKG97YRw)."
      ]
    },
    {
      "cell_type": "markdown",
      "metadata": {
        "id": "RWXtZNCed6n_"
      },
      "source": [
        "# References\n",
        "\n",
        "- [NumPy MedKit](http://mentat.za.net/numpy/numpy_advanced_slides/) for much more on indexing, slicing, and other advanced NumPy tricks.\n",
        "- [NumPy tutorial](https://github.com/rougier/numpy-tutorial) with some exercises.\n",
        "- [NumPy basics](https://docs.scipy.org/doc/numpy/user/basics.html)\n",
        "- [NumPy for MATLAB users](https://docs.scipy.org/doc/numpy/user/numpy-for-matlab-users.html)\n",
        "- [100 NumPy exercise](https://github.com/rougier/numpy-100)"
      ]
    },
    {
      "cell_type": "markdown",
      "metadata": {
        "id": "X5gGlmusd6n_"
      },
      "source": [
        "# Colophon\n",
        "This notebook was written by [Yoav Ram](http://python.yoavram.com).\n",
        "\n",
        "The notebook was written using [Python](http://python.org/) 3.7.\n",
        "Dependencies listed in [environment.yml](../environment.yml).\n",
        "\n",
        "This work is licensed under a CC BY-NC-SA 4.0 International License.\n",
        "\n",
        "![Python logo](https://www.python.org/static/community_logos/python-logo.png)"
      ]
    }
  ],
  "metadata": {
    "kernelspec": {
      "display_name": "Python 3",
      "language": "python",
      "name": "python3"
    },
    "language_info": {
      "codemirror_mode": {
        "name": "ipython",
        "version": 3
      },
      "file_extension": ".py",
      "mimetype": "text/x-python",
      "name": "python",
      "nbconvert_exporter": "python",
      "pygments_lexer": "ipython3",
      "version": "3.6.4"
    },
    "colab": {
      "provenance": []
    }
  },
  "nbformat": 4,
  "nbformat_minor": 0
}