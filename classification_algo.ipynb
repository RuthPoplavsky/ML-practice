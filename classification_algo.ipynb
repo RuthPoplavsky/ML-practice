{
 "cells": [
  {
   "cell_type": "markdown",
   "metadata": {},
   "source": [
    "<a href=\"https://githubtocolab.com/borislevant/python4ml/blob/main/classification.ipynb\" target=\"_parent\"><img src=\"https://colab.research.google.com/assets/colab-badge.svg\" alt=\"Open in Colab\"/></a>\n",
    "\n",
    "# Classification: Logistic Regression & SVM\n",
    "\n",
    "[![scikit-learn logo](./img/scikit-learn-logo-small.png)](https://scikit-learn.org/stable/)\n"
   ]
  },
  {
   "cell_type": "code",
   "execution_count": 45,
   "metadata": {},
   "outputs": [],
   "source": [
    "import matplotlib.pyplot as plt\n",
    "import numpy as np\n",
    "import pandas as pd\n",
    "import seaborn as sns\n",
    "\n",
    "from sklearn import linear_model, svm\n",
    "from sklearn.neighbors import KNeighborsClassifier\n",
    "from sklearn.model_selection import train_test_split\n",
    "from sklearn.metrics import confusion_matrix, classification_report, accuracy_score\n",
    "%matplotlib inline\n"
   ]
  },
  {
   "cell_type": "markdown",
   "metadata": {},
   "source": [
    "The MNIST database (Modified National Institute of Standards and Technology database) is a large database of handwritten digits that is commonly used for training various image processing systems. The database is also widely used for training and testing in the field of machine learning. It was created by \"re-mixing\" the samples from NIST's original datasets. The creators felt that since NIST's training dataset was taken from American Census Bureau employees, while the testing dataset was taken from American high school students, it was not well-suited for machine learning experiments. Furthermore, the black and white images from NIST were normalized to fit into a 28x28 pixel bounding box and anti-aliased, which introduced grayscale levels.\n",
    "\n",
    "The MNIST database contains 60,000 training images and 10,000 testing images. Half of the training set and half of the test set were taken from NIST's training dataset, while the other half of the training set and the other half of the test set were taken from NIST's testing dataset. The original creators of the database keep a list of some of the methods tested on it. In their original paper, they use a support-vector machine to get an error rate of 0.8%.\n",
    "\n",
    "![](./img/mnist_examples.png)\n",
    "\n",
    "In this notebook we will use the small subset of 5000 digits images\n"
   ]
  },
  {
   "cell_type": "code",
   "execution_count": 25,
   "metadata": {},
   "outputs": [],
   "source": [
    "# If you have an internet connection\n",
    "# We can load the full data set via the Scikit-learn data_set package\n",
    "\n",
    "# from sklearn.datasets import fetch_openml\n",
    "# X, y = fetch_openml(\"mnist_784\", version=1, return_X_y=True, as_frame=True)\n",
    "# X.iloc[:5000,:].to_csv('./data/mnist_7000_data.csv', index=False)\n",
    "# y.iloc[:5000].to_csv('./data/mnist_7000_labels.csv', index=False)\n"
   ]
  },
  {
   "cell_type": "code",
   "execution_count": 34,
   "metadata": {},
   "outputs": [
    {
     "data": {
      "text/plain": [
       "((5000, 784), (5000, 1))"
      ]
     },
     "execution_count": 34,
     "metadata": {},
     "output_type": "execute_result"
    }
   ],
   "source": [
    "X = pd.read_csv('./data/mnist_7000_data.csv', index_col=False)\n",
    "y = pd.read_csv('./data/mnist_7000_labels.csv', index_col=False)\n",
    "X.shape, y.shape"
   ]
  },
  {
   "cell_type": "markdown",
   "metadata": {},
   "source": [
    "Let's see how many different classes we have in the dataset"
   ]
  },
  {
   "cell_type": "code",
   "execution_count": 33,
   "metadata": {},
   "outputs": [
    {
     "data": {
      "text/plain": [
       "<AxesSubplot:>"
      ]
     },
     "execution_count": 33,
     "metadata": {},
     "output_type": "execute_result"
    },
    {
     "data": {
      "image/png": "[encoded data removed]",
      "text/plain": [
       "<Figure size 432x288 with 1 Axes>"
      ]
     },
     "metadata": {
      "needs_background": "light"
     },
     "output_type": "display_data"
    }
   ],
   "source": [
    "y['class'].value_counts().plot.bar()"
   ]
  },
  {
   "cell_type": "markdown",
   "metadata": {},
   "source": [
    "Each row in X contains 784 features - representing the 28x28 pixels pictures. In order to view the pictures, we will rescale the 784 vector into the 2D matrix of 28x28 and then use the Matplotlib API for displaying the images. Let's view the first 9 images of the dataset\n"
   ]
  },
  {
   "cell_type": "code",
   "execution_count": 44,
   "metadata": {},
   "outputs": [
    {
     "data": {
      "image/png": "[encoded data removed]",
      "text/plain": [
       "<Figure size 720x720 with 9 Axes>"
      ]
     },
     "metadata": {
      "needs_background": "light"
     },
     "output_type": "display_data"
    }
   ],
   "source": [
    "fig, ax = plt.subplots(nrows=3, ncols=3, figsize=(10, 10))\n",
    "for i in range(3):\n",
    "    for j in range(3):\n",
    "        ax[i, j].imshow(X.iloc[i*3+j, :].values.reshape((28, 28)), cmap='gray')\n",
    "        ax[i, j].set_title(f'Label: {y.iloc[i*3+j, 0]}')"
   ]
  },
  {
   "cell_type": "markdown",
   "metadata": {},
   "source": [
    "## Logistic Regression\n",
    "\n",
    "Logistic Regression is a Machine Learning classification algorithm that is used to predict the probability of a categorical dependent variable. In logistic regression, the dependent variable is a binary variable that contains data coded as 1 (yes, success, etc.) or 0 (no, failure, etc.). In other words, the logistic regression model predicts P(Y=1) as a function of X.\n",
    "\n",
    "The outcome of the Logistic Regression is the vector of length equals to the number of classes that we want to predict. In our case it's 10 - digits from 0 to 9. The value of the vector at the `i`-th coordinate indicates the probability of the the sample to be of class `i`\n",
    "$$\n",
    "v[i]=P(y=i|X)\n",
    "$$\n",
    "\n",
    "When we train the Logistic regression model, we try to estimate the probability $p_k$ that a data sample (image) belongs to class $k$ (digit $k$):\n",
    "$$\n",
    "p_k = \\frac{1}{1+e^{-z_k}} \\\\\n",
    "z_k = a_{1,k} x_1 + \\ldots + a_{m,k} x_m\n",
    "$$\n",
    "where $x_j$ is pixel $j$ and $a_{j,k}$ is the increase in favor of class $k$ when pixel $j$ is dark.\n",
    "\n",
    "In this case the loss function we minimize is *not* the sum of residual squares, but rather the **cross-entropy**:\n",
    "$$\n",
    "loss(p, y) = \\sum_{i=1}^{n}{\\sum_{k=0}^{9}{y_{i,k} \\log{p_{i,k}}}}\n",
    "$$\n",
    "where $i$ is the image index ($n$ images overall), $k$ is the digit (i.e. class), $y_{i,k}=1$ if image $i$ is of digit $k$ and $y_{i,k}=0$ otherwise, and $p_{i,k}$ is the model prediction about the probability that image $i$ is of digit $k$.\n",
    "\n",
    "Before training the model, let's split the data into `train` and `test` sets "
   ]
  },
  {
   "cell_type": "code",
   "execution_count": 58,
   "metadata": {},
   "outputs": [],
   "source": [
    "n_train = 4500\n",
    "X_train = X.values[:n_train, :]\n",
    "X_test = X.values[n_train:, :]\n",
    "y_train = y.values.ravel()[:n_train]\n",
    "y_test = y.values.ravel()[n_train:]"
   ]
  },
  {
   "cell_type": "code",
   "execution_count": 60,
   "metadata": {},
   "outputs": [
    {
     "name": "stdout",
     "output_type": "stream",
     "text": [
      "Trian accuracy of the model: 1.0\n",
      "Test accuracy of the model: 0.892\n"
     ]
    },
    {
     "name": "stderr",
     "output_type": "stream",
     "text": [
      "c:\\users\\blevant170763\\appdata\\local\\programs\\python\\python38\\lib\\site-packages\\sklearn\\linear_model\\_logistic.py:763: ConvergenceWarning: lbfgs failed to converge (status=1):\n",
      "STOP: TOTAL NO. of ITERATIONS REACHED LIMIT.\n",
      "\n",
      "Increase the number of iterations (max_iter) or scale the data as shown in:\n",
      "    https://scikit-learn.org/stable/modules/preprocessing.html\n",
      "Please also refer to the documentation for alternative solver options:\n",
      "    https://scikit-learn.org/stable/modules/linear_model.html#logistic-regression\n",
      "  n_iter_i = _check_optimize_result(\n"
     ]
    }
   ],
   "source": [
    "clf = linear_model.LogisticRegression(random_state=0).fit(X_train, y_train)\n",
    "print(f'Trian accuracy of the model: {clf.score(X_train, y_train)}')\n",
    "print(f'Test accuracy of the model: {clf.score(X_test, y_test)}')"
   ]
  },
  {
   "cell_type": "markdown",
   "metadata": {},
   "source": [
    "In the case of the classification models, the accuracy of the model is defined as\n",
    "$$\n",
    "\\frac{\\text{The number of correct predictions}}{\\text{Overall number of examples}}\n",
    "$$\n",
    "\n",
    "One already observes that our model **overfits** - namely it performs perfect on the train set, but ones we give it a test set - examples it didn't see during the train, it performs much worse: only **89.2%**"
   ]
  },
  {
   "cell_type": "markdown",
   "metadata": {},
   "source": [
    "### Excercise 1\n",
    "\n",
    "Implement the function that caclulates the accuracy of the classifier\n",
    "```\n",
    "def accuracy(y_labels, y_predicted):\n",
    "    return np.average(y_labels == y_predicted)\n",
    "```\n",
    "Verify that the function calculates the same values for the `clf` model\n",
    "```\n",
    "accuracy(y_test, clf.predict(X_test))\n",
    "```"
   ]
  },
  {
   "cell_type": "markdown",
   "metadata": {},
   "source": [
    "In order to show the in-correctly classified examples, we can use the following"
   ]
  },
  {
   "cell_type": "code",
   "execution_count": 67,
   "metadata": {},
   "outputs": [
    {
     "data": {
      "image/png": "[encoded data removed]",
      "text/plain": [
       "<Figure size 720x720 with 9 Axes>"
      ]
     },
     "metadata": {
      "needs_background": "light"
     },
     "output_type": "display_data"
    }
   ],
   "source": [
    "y_predicted = clf.predict(X_test)\n",
    "X_test_wrong = X_test[y_predicted != y_test]\n",
    "y_test_wrong = y_test[y_predicted != y_test]\n",
    "y_predicted_wrong = y_predicted[y_predicted != y_test]\n",
    "\n",
    "fig, ax = plt.subplots(nrows=3, ncols=3, figsize=(10, 10))\n",
    "for i in range(3):\n",
    "    for j in range(3):\n",
    "        ax[i, j].imshow(X_test_wrong[i*3+j, :].reshape((28, 28)), cmap='gray')\n",
    "        ax[i, j].set_title(f'Label: {y_test_wrong[i*3+j]}, Predicted: {y_predicted_wrong[i*3+j]}')\n"
   ]
  },
  {
   "cell_type": "markdown",
   "metadata": {},
   "source": [
    "## Visualizing the models weights\n",
    "\n",
    "Remember, that the Logistic regression model is just the weights of the size of the picture - 784, and we different weights for each of the classes. So we can visualize the weights for each class in the following way\n"
   ]
  },
  {
   "cell_type": "code",
   "execution_count": 78,
   "metadata": {},
   "outputs": [
    {
     "data": {
      "image/png": "[encoded data removed]",
      "text/plain": [
       "<Figure size 1080x504 with 10 Axes>"
      ]
     },
     "metadata": {
      "needs_background": "light"
     },
     "output_type": "display_data"
    }
   ],
   "source": [
    "coef = clf.coef_\n",
    "fig, ax = plt.subplots(nrows=2, ncols=5, figsize=(15, 7))\n",
    "for i in range(2):\n",
    "    for j in range(5):\n",
    "        ax[i, j].imshow(coef[i*5+j, :].reshape((28, 28)), cmap=plt.cm.RdBu)\n",
    "        ax[i, j].set_title(f'Class: {i*5+j}')\n"
   ]
  },
  {
   "cell_type": "markdown",
   "metadata": {},
   "source": [
    "## Improving the Logistic Regression model\n",
    "\n",
    "In this part we will rescale the features of the model - dividing it by 255 (the largest possible value of the pixel) to bring everythiong into the range of 0 to 1"
   ]
  },
  {
   "cell_type": "code",
   "execution_count": 110,
   "metadata": {},
   "outputs": [],
   "source": [
    "X_train_scaled = X_train / 255\n",
    "X_test_scaled = X_test / 255\n"
   ]
  },
  {
   "cell_type": "code",
   "execution_count": 113,
   "metadata": {},
   "outputs": [],
   "source": [
    "from sklearn.model_selection import GridSearchCV\n",
    "\n",
    "grid_params = {'C' : np.logspace(-3, 2, 10)}\n",
    "gs = GridSearchCV(linear_model.LogisticRegression(random_state=0, solver='lbfgs', max_iter=500), grid_params, scoring='accuracy', cv=3, verbose=1)\n"
   ]
  },
  {
   "cell_type": "code",
   "execution_count": 114,
   "metadata": {},
   "outputs": [
    {
     "name": "stdout",
     "output_type": "stream",
     "text": [
      "Fitting 3 folds for each of 10 candidates, totalling 30 fits\n"
     ]
    },
    {
     "name": "stderr",
     "output_type": "stream",
     "text": [
      "c:\\users\\blevant170763\\appdata\\local\\programs\\python\\python38\\lib\\site-packages\\sklearn\\linear_model\\_logistic.py:763: ConvergenceWarning: lbfgs failed to converge (status=1):\n",
      "STOP: TOTAL NO. of ITERATIONS REACHED LIMIT.\n",
      "\n",
      "Increase the number of iterations (max_iter) or scale the data as shown in:\n",
      "    https://scikit-learn.org/stable/modules/preprocessing.html\n",
      "Please also refer to the documentation for alternative solver options:\n",
      "    https://scikit-learn.org/stable/modules/linear_model.html#logistic-regression\n",
      "  n_iter_i = _check_optimize_result(\n",
      "c:\\users\\blevant170763\\appdata\\local\\programs\\python\\python38\\lib\\site-packages\\sklearn\\linear_model\\_logistic.py:763: ConvergenceWarning: lbfgs failed to converge (status=1):\n",
      "STOP: TOTAL NO. of ITERATIONS REACHED LIMIT.\n",
      "\n",
      "Increase the number of iterations (max_iter) or scale the data as shown in:\n",
      "    https://scikit-learn.org/stable/modules/preprocessing.html\n",
      "Please also refer to the documentation for alternative solver options:\n",
      "    https://scikit-learn.org/stable/modules/linear_model.html#logistic-regression\n",
      "  n_iter_i = _check_optimize_result(\n",
      "c:\\users\\blevant170763\\appdata\\local\\programs\\python\\python38\\lib\\site-packages\\sklearn\\linear_model\\_logistic.py:763: ConvergenceWarning: lbfgs failed to converge (status=1):\n",
      "STOP: TOTAL NO. of ITERATIONS REACHED LIMIT.\n",
      "\n",
      "Increase the number of iterations (max_iter) or scale the data as shown in:\n",
      "    https://scikit-learn.org/stable/modules/preprocessing.html\n",
      "Please also refer to the documentation for alternative solver options:\n",
      "    https://scikit-learn.org/stable/modules/linear_model.html#logistic-regression\n",
      "  n_iter_i = _check_optimize_result(\n"
     ]
    }
   ],
   "source": [
    "g_res = gs.fit(X_train_scaled, y_train)"
   ]
  },
  {
   "cell_type": "code",
   "execution_count": 115,
   "metadata": {},
   "outputs": [
    {
     "data": {
      "text/html": [
       "<div>\n",
       "<style scoped>\n",
       "    .dataframe tbody tr th:only-of-type {\n",
       "        vertical-align: middle;\n",
       "    }\n",
       "\n",
       "    .dataframe tbody tr th {\n",
       "        vertical-align: top;\n",
       "    }\n",
       "\n",
       "    .dataframe thead th {\n",
       "        text-align: right;\n",
       "    }\n",
       "</style>\n",
       "<table border=\"1\" class=\"dataframe\">\n",
       "  <thead>\n",
       "    <tr style=\"text-align: right;\">\n",
       "      <th></th>\n",
       "      <th>mean_fit_time</th>\n",
       "      <th>std_fit_time</th>\n",
       "      <th>mean_score_time</th>\n",
       "      <th>std_score_time</th>\n",
       "      <th>param_C</th>\n",
       "      <th>params</th>\n",
       "      <th>split0_test_score</th>\n",
       "      <th>split1_test_score</th>\n",
       "      <th>split2_test_score</th>\n",
       "      <th>mean_test_score</th>\n",
       "      <th>std_test_score</th>\n",
       "      <th>rank_test_score</th>\n",
       "    </tr>\n",
       "  </thead>\n",
       "  <tbody>\n",
       "    <tr>\n",
       "      <th>0</th>\n",
       "      <td>0.469302</td>\n",
       "      <td>0.020334</td>\n",
       "      <td>0.001330</td>\n",
       "      <td>0.001881</td>\n",
       "      <td>0.001</td>\n",
       "      <td>{'C': 0.001}</td>\n",
       "      <td>0.806000</td>\n",
       "      <td>0.825333</td>\n",
       "      <td>0.820667</td>\n",
       "      <td>0.817333</td>\n",
       "      <td>0.008237</td>\n",
       "      <td>10</td>\n",
       "    </tr>\n",
       "    <tr>\n",
       "      <th>1</th>\n",
       "      <td>0.688506</td>\n",
       "      <td>0.019786</td>\n",
       "      <td>0.003001</td>\n",
       "      <td>0.002161</td>\n",
       "      <td>0.003594</td>\n",
       "      <td>{'C': 0.003593813663804626}</td>\n",
       "      <td>0.843333</td>\n",
       "      <td>0.870000</td>\n",
       "      <td>0.874667</td>\n",
       "      <td>0.862667</td>\n",
       "      <td>0.013803</td>\n",
       "      <td>9</td>\n",
       "    </tr>\n",
       "    <tr>\n",
       "      <th>2</th>\n",
       "      <td>1.034297</td>\n",
       "      <td>0.147546</td>\n",
       "      <td>0.005207</td>\n",
       "      <td>0.007364</td>\n",
       "      <td>0.012915</td>\n",
       "      <td>{'C': 0.01291549665014884}</td>\n",
       "      <td>0.864667</td>\n",
       "      <td>0.890667</td>\n",
       "      <td>0.896667</td>\n",
       "      <td>0.884000</td>\n",
       "      <td>0.013888</td>\n",
       "      <td>6</td>\n",
       "    </tr>\n",
       "    <tr>\n",
       "      <th>3</th>\n",
       "      <td>1.302196</td>\n",
       "      <td>0.062945</td>\n",
       "      <td>0.005209</td>\n",
       "      <td>0.007367</td>\n",
       "      <td>0.046416</td>\n",
       "      <td>{'C': 0.046415888336127795}</td>\n",
       "      <td>0.882000</td>\n",
       "      <td>0.902667</td>\n",
       "      <td>0.908667</td>\n",
       "      <td>0.897778</td>\n",
       "      <td>0.011422</td>\n",
       "      <td>1</td>\n",
       "    </tr>\n",
       "    <tr>\n",
       "      <th>4</th>\n",
       "      <td>1.691227</td>\n",
       "      <td>0.068953</td>\n",
       "      <td>0.005212</td>\n",
       "      <td>0.007372</td>\n",
       "      <td>0.16681</td>\n",
       "      <td>{'C': 0.1668100537200059}</td>\n",
       "      <td>0.876667</td>\n",
       "      <td>0.909333</td>\n",
       "      <td>0.907333</td>\n",
       "      <td>0.897778</td>\n",
       "      <td>0.014950</td>\n",
       "      <td>1</td>\n",
       "    </tr>\n",
       "    <tr>\n",
       "      <th>5</th>\n",
       "      <td>2.117550</td>\n",
       "      <td>0.102427</td>\n",
       "      <td>0.006544</td>\n",
       "      <td>0.006631</td>\n",
       "      <td>0.599484</td>\n",
       "      <td>{'C': 0.5994842503189409}</td>\n",
       "      <td>0.876000</td>\n",
       "      <td>0.906667</td>\n",
       "      <td>0.900667</td>\n",
       "      <td>0.894444</td>\n",
       "      <td>0.013270</td>\n",
       "      <td>3</td>\n",
       "    </tr>\n",
       "    <tr>\n",
       "      <th>6</th>\n",
       "      <td>2.829069</td>\n",
       "      <td>0.120640</td>\n",
       "      <td>0.008207</td>\n",
       "      <td>0.005258</td>\n",
       "      <td>2.154435</td>\n",
       "      <td>{'C': 2.1544346900318843}</td>\n",
       "      <td>0.874000</td>\n",
       "      <td>0.900000</td>\n",
       "      <td>0.891333</td>\n",
       "      <td>0.888444</td>\n",
       "      <td>0.010809</td>\n",
       "      <td>4</td>\n",
       "    </tr>\n",
       "    <tr>\n",
       "      <th>7</th>\n",
       "      <td>3.464262</td>\n",
       "      <td>0.185709</td>\n",
       "      <td>0.003672</td>\n",
       "      <td>0.002630</td>\n",
       "      <td>7.742637</td>\n",
       "      <td>{'C': 7.742636826811277}</td>\n",
       "      <td>0.872000</td>\n",
       "      <td>0.898000</td>\n",
       "      <td>0.889333</td>\n",
       "      <td>0.886444</td>\n",
       "      <td>0.010809</td>\n",
       "      <td>5</td>\n",
       "    </tr>\n",
       "    <tr>\n",
       "      <th>8</th>\n",
       "      <td>3.854676</td>\n",
       "      <td>0.093883</td>\n",
       "      <td>0.010449</td>\n",
       "      <td>0.007389</td>\n",
       "      <td>27.825594</td>\n",
       "      <td>{'C': 27.825594022071257}</td>\n",
       "      <td>0.866000</td>\n",
       "      <td>0.893333</td>\n",
       "      <td>0.888000</td>\n",
       "      <td>0.882444</td>\n",
       "      <td>0.011830</td>\n",
       "      <td>7</td>\n",
       "    </tr>\n",
       "    <tr>\n",
       "      <th>9</th>\n",
       "      <td>3.797169</td>\n",
       "      <td>0.082687</td>\n",
       "      <td>0.005211</td>\n",
       "      <td>0.007370</td>\n",
       "      <td>100.0</td>\n",
       "      <td>{'C': 100.0}</td>\n",
       "      <td>0.864000</td>\n",
       "      <td>0.892667</td>\n",
       "      <td>0.886000</td>\n",
       "      <td>0.880889</td>\n",
       "      <td>0.012248</td>\n",
       "      <td>8</td>\n",
       "    </tr>\n",
       "  </tbody>\n",
       "</table>\n",
       "</div>"
      ],
      "text/plain": [
       "   mean_fit_time  std_fit_time  mean_score_time  std_score_time    param_C  \\\n",
       "0       0.469302      0.020334         0.001330        0.001881      0.001   \n",
       "1       0.688506      0.019786         0.003001        0.002161   0.003594   \n",
       "2       1.034297      0.147546         0.005207        0.007364   0.012915   \n",
       "3       1.302196      0.062945         0.005209        0.007367   0.046416   \n",
       "4       1.691227      0.068953         0.005212        0.007372    0.16681   \n",
       "5       2.117550      0.102427         0.006544        0.006631   0.599484   \n",
       "6       2.829069      0.120640         0.008207        0.005258   2.154435   \n",
       "7       3.464262      0.185709         0.003672        0.002630   7.742637   \n",
       "8       3.854676      0.093883         0.010449        0.007389  27.825594   \n",
       "9       3.797169      0.082687         0.005211        0.007370      100.0   \n",
       "\n",
       "                        params  split0_test_score  split1_test_score  \\\n",
       "0                 {'C': 0.001}           0.806000           0.825333   \n",
       "1  {'C': 0.003593813663804626}           0.843333           0.870000   \n",
       "2   {'C': 0.01291549665014884}           0.864667           0.890667   \n",
       "3  {'C': 0.046415888336127795}           0.882000           0.902667   \n",
       "4    {'C': 0.1668100537200059}           0.876667           0.909333   \n",
       "5    {'C': 0.5994842503189409}           0.876000           0.906667   \n",
       "6    {'C': 2.1544346900318843}           0.874000           0.900000   \n",
       "7     {'C': 7.742636826811277}           0.872000           0.898000   \n",
       "8    {'C': 27.825594022071257}           0.866000           0.893333   \n",
       "9                 {'C': 100.0}           0.864000           0.892667   \n",
       "\n",
       "   split2_test_score  mean_test_score  std_test_score  rank_test_score  \n",
       "0           0.820667         0.817333        0.008237               10  \n",
       "1           0.874667         0.862667        0.013803                9  \n",
       "2           0.896667         0.884000        0.013888                6  \n",
       "3           0.908667         0.897778        0.011422                1  \n",
       "4           0.907333         0.897778        0.014950                1  \n",
       "5           0.900667         0.894444        0.013270                3  \n",
       "6           0.891333         0.888444        0.010809                4  \n",
       "7           0.889333         0.886444        0.010809                5  \n",
       "8           0.888000         0.882444        0.011830                7  \n",
       "9           0.886000         0.880889        0.012248                8  "
      ]
     },
     "execution_count": 115,
     "metadata": {},
     "output_type": "execute_result"
    }
   ],
   "source": [
    "df_cv = pd.DataFrame(g_res.cv_results_)\n",
    "df_cv.head(10)"
   ]
  },
  {
   "cell_type": "code",
   "execution_count": 129,
   "metadata": {},
   "outputs": [
    {
     "data": {
      "image/png": "[encoded data removed]",
      "text/plain": [
       "<Figure size 720x360 with 2 Axes>"
      ]
     },
     "metadata": {
      "needs_background": "light"
     },
     "output_type": "display_data"
    }
   ],
   "source": [
    "fig, ax = plt.subplots(nrows=1, ncols=2, figsize=(10, 5))\n",
    "ax[0].bar(range(df_cv.shape[0]), df_cv.mean_test_score.values)\n",
    "ax[0].set_title('Mean Accuracy over Params Combinations')\n",
    "ax[1].bar(range(df_cv.shape[0]), df_cv.std_test_score.values)\n",
    "ax[1].set_title('STD Accuracy over Params Combinations')\n",
    "plt.show()"
   ]
  },
  {
   "cell_type": "code",
   "execution_count": 117,
   "metadata": {},
   "outputs": [
    {
     "data": {
      "text/plain": [
       "(0.8977777777777778, {'C': 0.046415888336127795})"
      ]
     },
     "execution_count": 117,
     "metadata": {},
     "output_type": "execute_result"
    }
   ],
   "source": [
    "g_res.best_score_, g_res.best_params_"
   ]
  },
  {
   "cell_type": "code",
   "execution_count": 130,
   "metadata": {},
   "outputs": [
    {
     "name": "stdout",
     "output_type": "stream",
     "text": [
      "Trian accuracy of the model: 0.936\n",
      "Test accuracy of the model: 0.908\n"
     ]
    }
   ],
   "source": [
    "clf = linear_model.LogisticRegression(random_state=0, solver='lbfgs', max_iter=500, C=0.046, penalty='l2').fit(X_train_scaled, y_train)\n",
    "print(f'Trian accuracy of the model: {clf.score(X_train_scaled, y_train)}')\n",
    "print(f'Test accuracy of the model: {clf.score(X_test_scaled, y_test)}')"
   ]
  },
  {
   "cell_type": "markdown",
   "metadata": {},
   "source": [
    "## SVM\n",
    "\n",
    "The objective of the support vector machine algorithm is to find a hyperplane in an N-dimensional space(N — the number of features) that distinctly classifies the data points.\n",
    "\n",
    "![](./img/svm.png)\n",
    "\n",
    "To separate the two classes of data points, there are many possible hyperplanes that could be chosen. Our objective is to find a plane that has the maximum margin, i.e the maximum distance between data points of both classes. Maximizing the margin distance provides some reinforcement so that future data points can be classified with more confidence.\n"
   ]
  },
  {
   "cell_type": "code",
   "execution_count": 131,
   "metadata": {},
   "outputs": [],
   "source": [
    "grid_params = {'C' : np.logspace(-3, 2, 10)}\n",
    "gs = GridSearchCV(svm.SVC(random_state=0), grid_params, scoring='accuracy', cv=3, verbose=1)\n"
   ]
  },
  {
   "cell_type": "code",
   "execution_count": 132,
   "metadata": {},
   "outputs": [
    {
     "name": "stdout",
     "output_type": "stream",
     "text": [
      "Fitting 3 folds for each of 10 candidates, totalling 30 fits\n"
     ]
    }
   ],
   "source": [
    "g_res = gs.fit(X_train_scaled, y_train)"
   ]
  },
  {
   "cell_type": "code",
   "execution_count": 133,
   "metadata": {},
   "outputs": [
    {
     "data": {
      "text/html": [
       "<div>\n",
       "<style scoped>\n",
       "    .dataframe tbody tr th:only-of-type {\n",
       "        vertical-align: middle;\n",
       "    }\n",
       "\n",
       "    .dataframe tbody tr th {\n",
       "        vertical-align: top;\n",
       "    }\n",
       "\n",
       "    .dataframe thead th {\n",
       "        text-align: right;\n",
       "    }\n",
       "</style>\n",
       "<table border=\"1\" class=\"dataframe\">\n",
       "  <thead>\n",
       "    <tr style=\"text-align: right;\">\n",
       "      <th></th>\n",
       "      <th>mean_fit_time</th>\n",
       "      <th>std_fit_time</th>\n",
       "      <th>mean_score_time</th>\n",
       "      <th>std_score_time</th>\n",
       "      <th>param_C</th>\n",
       "      <th>params</th>\n",
       "      <th>split0_test_score</th>\n",
       "      <th>split1_test_score</th>\n",
       "      <th>split2_test_score</th>\n",
       "      <th>mean_test_score</th>\n",
       "      <th>std_test_score</th>\n",
       "      <th>rank_test_score</th>\n",
       "    </tr>\n",
       "  </thead>\n",
       "  <tbody>\n",
       "    <tr>\n",
       "      <th>0</th>\n",
       "      <td>5.706201</td>\n",
       "      <td>0.074299</td>\n",
       "      <td>4.900236</td>\n",
       "      <td>0.044146</td>\n",
       "      <td>0.001</td>\n",
       "      <td>{'C': 0.001}</td>\n",
       "      <td>0.110667</td>\n",
       "      <td>0.111333</td>\n",
       "      <td>0.111333</td>\n",
       "      <td>0.111111</td>\n",
       "      <td>0.000314</td>\n",
       "      <td>9</td>\n",
       "    </tr>\n",
       "    <tr>\n",
       "      <th>1</th>\n",
       "      <td>5.626920</td>\n",
       "      <td>0.079956</td>\n",
       "      <td>4.809793</td>\n",
       "      <td>0.042903</td>\n",
       "      <td>0.003594</td>\n",
       "      <td>{'C': 0.003593813663804626}</td>\n",
       "      <td>0.110667</td>\n",
       "      <td>0.111333</td>\n",
       "      <td>0.111333</td>\n",
       "      <td>0.111111</td>\n",
       "      <td>0.000314</td>\n",
       "      <td>9</td>\n",
       "    </tr>\n",
       "    <tr>\n",
       "      <th>2</th>\n",
       "      <td>5.703580</td>\n",
       "      <td>0.066363</td>\n",
       "      <td>4.833929</td>\n",
       "      <td>0.115140</td>\n",
       "      <td>0.012915</td>\n",
       "      <td>{'C': 0.01291549665014884}</td>\n",
       "      <td>0.393333</td>\n",
       "      <td>0.378000</td>\n",
       "      <td>0.392000</td>\n",
       "      <td>0.387778</td>\n",
       "      <td>0.006935</td>\n",
       "      <td>8</td>\n",
       "    </tr>\n",
       "    <tr>\n",
       "      <th>3</th>\n",
       "      <td>4.219160</td>\n",
       "      <td>0.089355</td>\n",
       "      <td>4.349841</td>\n",
       "      <td>0.241245</td>\n",
       "      <td>0.046416</td>\n",
       "      <td>{'C': 0.046415888336127795}</td>\n",
       "      <td>0.837333</td>\n",
       "      <td>0.856000</td>\n",
       "      <td>0.854000</td>\n",
       "      <td>0.849111</td>\n",
       "      <td>0.008368</td>\n",
       "      <td>7</td>\n",
       "    </tr>\n",
       "    <tr>\n",
       "      <th>4</th>\n",
       "      <td>2.437706</td>\n",
       "      <td>0.046021</td>\n",
       "      <td>3.156162</td>\n",
       "      <td>0.058533</td>\n",
       "      <td>0.16681</td>\n",
       "      <td>{'C': 0.1668100537200059}</td>\n",
       "      <td>0.901333</td>\n",
       "      <td>0.919333</td>\n",
       "      <td>0.917333</td>\n",
       "      <td>0.912667</td>\n",
       "      <td>0.008055</td>\n",
       "      <td>6</td>\n",
       "    </tr>\n",
       "    <tr>\n",
       "      <th>5</th>\n",
       "      <td>1.666818</td>\n",
       "      <td>0.065491</td>\n",
       "      <td>2.271336</td>\n",
       "      <td>0.019407</td>\n",
       "      <td>0.599484</td>\n",
       "      <td>{'C': 0.5994842503189409}</td>\n",
       "      <td>0.922667</td>\n",
       "      <td>0.941333</td>\n",
       "      <td>0.944000</td>\n",
       "      <td>0.936000</td>\n",
       "      <td>0.009491</td>\n",
       "      <td>5</td>\n",
       "    </tr>\n",
       "    <tr>\n",
       "      <th>6</th>\n",
       "      <td>1.573013</td>\n",
       "      <td>0.051783</td>\n",
       "      <td>2.041635</td>\n",
       "      <td>0.085019</td>\n",
       "      <td>2.154435</td>\n",
       "      <td>{'C': 2.1544346900318843}</td>\n",
       "      <td>0.936000</td>\n",
       "      <td>0.952667</td>\n",
       "      <td>0.958000</td>\n",
       "      <td>0.948889</td>\n",
       "      <td>0.009370</td>\n",
       "      <td>1</td>\n",
       "    </tr>\n",
       "    <tr>\n",
       "      <th>7</th>\n",
       "      <td>1.531399</td>\n",
       "      <td>0.044206</td>\n",
       "      <td>2.109782</td>\n",
       "      <td>0.067713</td>\n",
       "      <td>7.742637</td>\n",
       "      <td>{'C': 7.742636826811277}</td>\n",
       "      <td>0.938000</td>\n",
       "      <td>0.950000</td>\n",
       "      <td>0.956000</td>\n",
       "      <td>0.948000</td>\n",
       "      <td>0.007483</td>\n",
       "      <td>2</td>\n",
       "    </tr>\n",
       "    <tr>\n",
       "      <th>8</th>\n",
       "      <td>1.520972</td>\n",
       "      <td>0.051557</td>\n",
       "      <td>2.104263</td>\n",
       "      <td>0.140057</td>\n",
       "      <td>27.825594</td>\n",
       "      <td>{'C': 27.825594022071257}</td>\n",
       "      <td>0.937333</td>\n",
       "      <td>0.950000</td>\n",
       "      <td>0.956000</td>\n",
       "      <td>0.947778</td>\n",
       "      <td>0.007781</td>\n",
       "      <td>3</td>\n",
       "    </tr>\n",
       "    <tr>\n",
       "      <th>9</th>\n",
       "      <td>1.515760</td>\n",
       "      <td>0.025524</td>\n",
       "      <td>1.969038</td>\n",
       "      <td>0.077412</td>\n",
       "      <td>100.0</td>\n",
       "      <td>{'C': 100.0}</td>\n",
       "      <td>0.937333</td>\n",
       "      <td>0.950000</td>\n",
       "      <td>0.956000</td>\n",
       "      <td>0.947778</td>\n",
       "      <td>0.007781</td>\n",
       "      <td>3</td>\n",
       "    </tr>\n",
       "  </tbody>\n",
       "</table>\n",
       "</div>"
      ],
      "text/plain": [
       "   mean_fit_time  std_fit_time  mean_score_time  std_score_time    param_C  \\\n",
       "0       5.706201      0.074299         4.900236        0.044146      0.001   \n",
       "1       5.626920      0.079956         4.809793        0.042903   0.003594   \n",
       "2       5.703580      0.066363         4.833929        0.115140   0.012915   \n",
       "3       4.219160      0.089355         4.349841        0.241245   0.046416   \n",
       "4       2.437706      0.046021         3.156162        0.058533    0.16681   \n",
       "5       1.666818      0.065491         2.271336        0.019407   0.599484   \n",
       "6       1.573013      0.051783         2.041635        0.085019   2.154435   \n",
       "7       1.531399      0.044206         2.109782        0.067713   7.742637   \n",
       "8       1.520972      0.051557         2.104263        0.140057  27.825594   \n",
       "9       1.515760      0.025524         1.969038        0.077412      100.0   \n",
       "\n",
       "                        params  split0_test_score  split1_test_score  \\\n",
       "0                 {'C': 0.001}           0.110667           0.111333   \n",
       "1  {'C': 0.003593813663804626}           0.110667           0.111333   \n",
       "2   {'C': 0.01291549665014884}           0.393333           0.378000   \n",
       "3  {'C': 0.046415888336127795}           0.837333           0.856000   \n",
       "4    {'C': 0.1668100537200059}           0.901333           0.919333   \n",
       "5    {'C': 0.5994842503189409}           0.922667           0.941333   \n",
       "6    {'C': 2.1544346900318843}           0.936000           0.952667   \n",
       "7     {'C': 7.742636826811277}           0.938000           0.950000   \n",
       "8    {'C': 27.825594022071257}           0.937333           0.950000   \n",
       "9                 {'C': 100.0}           0.937333           0.950000   \n",
       "\n",
       "   split2_test_score  mean_test_score  std_test_score  rank_test_score  \n",
       "0           0.111333         0.111111        0.000314                9  \n",
       "1           0.111333         0.111111        0.000314                9  \n",
       "2           0.392000         0.387778        0.006935                8  \n",
       "3           0.854000         0.849111        0.008368                7  \n",
       "4           0.917333         0.912667        0.008055                6  \n",
       "5           0.944000         0.936000        0.009491                5  \n",
       "6           0.958000         0.948889        0.009370                1  \n",
       "7           0.956000         0.948000        0.007483                2  \n",
       "8           0.956000         0.947778        0.007781                3  \n",
       "9           0.956000         0.947778        0.007781                3  "
      ]
     },
     "execution_count": 133,
     "metadata": {},
     "output_type": "execute_result"
    }
   ],
   "source": [
    "df_cv = pd.DataFrame(g_res.cv_results_)\n",
    "df_cv.head(10)"
   ]
  },
  {
   "cell_type": "code",
   "execution_count": 137,
   "metadata": {},
   "outputs": [
    {
     "data": {
      "image/png": "[encoded data removed]",
      "text/plain": [
       "<Figure size 720x360 with 2 Axes>"
      ]
     },
     "metadata": {
      "needs_background": "light"
     },
     "output_type": "display_data"
    }
   ],
   "source": [
    "fig, ax = plt.subplots(nrows=1, ncols=2, figsize=(10, 5))\n",
    "ax[0].bar(range(df_cv.shape[0]), df_cv.mean_test_score.values)\n",
    "ax[0].set_title('Mean Accuracy over Params Combinations')\n",
    "ax[1].bar(range(df_cv.shape[0]), df_cv.std_test_score.values)\n",
    "ax[1].set_title('STD Accuracy over Params Combinations')\n",
    "plt.show()"
   ]
  },
  {
   "cell_type": "code",
   "execution_count": 134,
   "metadata": {},
   "outputs": [
    {
     "data": {
      "text/plain": [
       "(0.9488888888888889, {'C': 2.1544346900318843})"
      ]
     },
     "execution_count": 134,
     "metadata": {},
     "output_type": "execute_result"
    }
   ],
   "source": [
    "g_res.best_score_, g_res.best_params_"
   ]
  },
  {
   "cell_type": "code",
   "execution_count": 136,
   "metadata": {},
   "outputs": [
    {
     "name": "stdout",
     "output_type": "stream",
     "text": [
      "Trian accuracy of the model: 0.9957777777777778\n",
      "Test accuracy of the model: 0.958\n"
     ]
    }
   ],
   "source": [
    "clf = svm.SVC(random_state=0, C=2.1).fit(X_train_scaled, y_train)\n",
    "print(f'Trian accuracy of the model: {clf.score(X_train_scaled, y_train)}')\n",
    "print(f'Test accuracy of the model: {clf.score(X_test_scaled, y_test)}')"
   ]
  },
  {
   "cell_type": "markdown",
   "metadata": {},
   "source": [
    "We see that the SVM performs much better than the Logistic regression in this task. In the next weeks we will see the algorithms that achieve almost perfect performance on the task of MNIST handwritten digits recognition"
   ]
  },
  {
   "cell_type": "markdown",
   "metadata": {
    "id": "mnJRGPYxK6iG"
   },
   "source": [
    "# References\n",
    "\n",
    "- Scikit-learn [supervised learning tutorial](http://scikit-learn.org/stable/tutorial/statistical_inference/supervised_learning.html).\n",
    "- [Tuning meta-parameters](http://scikit-learn.org/stable/modules/grid_search.html#grid-search) with cross validation.\n",
    "- [One of the best notebooks for ML](https://www.kaggle.com/code/willkoehrsen/start-here-a-gentle-introduction/notebook)\n",
    "\n",
    "# Futher exercise\n",
    "\n",
    "- [Regression with a linear model](../exercises/linear-model.ipynb)\n",
    "- [Classification with a logistic model](../exercises/logistic-tennis.ipynb)"
   ]
  }
 ],
 "metadata": {
  "kernelspec": {
   "display_name": "Python 3 (ipykernel)",
   "language": "python",
   "name": "python3"
  },
  "language_info": {
   "codemirror_mode": {
    "name": "ipython",
    "version": 3
   },
   "file_extension": ".py",
   "mimetype": "text/x-python",
   "name": "python",
   "nbconvert_exporter": "python",
   "pygments_lexer": "ipython3",
   "version": "3.8.7"
  },
  "vscode": {
   "interpreter": {
    "hash": "3ad933181bd8a04b432d3370b9dc3b0662ad032c4dfaa4e4f1596c548f763858"
   }
  }
 },
 "nbformat": 4,
 "nbformat_minor": 4
}
